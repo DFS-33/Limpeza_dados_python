{
  "nbformat": 4,
  "nbformat_minor": 0,
  "metadata": {
    "colab": {
      "name": " cliente_planilha_Douglas.ipynb",
      "provenance": [],
      "collapsed_sections": [],
      "include_colab_link": true
    },
    "kernelspec": {
      "name": "python3",
      "display_name": "Python 3"
    },
    "language_info": {
      "name": "python"
    }
  },
  "cells": [
    {
      "cell_type": "markdown",
      "metadata": {
        "id": "view-in-github",
        "colab_type": "text"
      },
      "source": [
        "<a href=\"https://colab.research.google.com/github/DFS-33/Limpeza_dados_python/blob/main/cliente_planilha_Douglas.ipynb\" target=\"_parent\"><img src=\"https://colab.research.google.com/assets/colab-badge.svg\" alt=\"Open In Colab\"/></a>"
      ]
    },
    {
      "cell_type": "code",
      "metadata": {
        "id": "e9sCJF9qxPGy"
      },
      "source": [
        "import pandas as pd \n",
        "import copy"
      ],
      "execution_count": null,
      "outputs": []
    },
    {
      "cell_type": "markdown",
      "source": [
        "### ETL Utilizando Pandas\n",
        "\n",
        "Este é um dos cenários que eu tive experiência na última empresa a qual eu trabalhei. Em alguns casos a fonte de dados dos clientes, a qual eu  teria que fazer as migrações eram planilhas de cadastros ao invés de banco de dados. \n",
        "\n",
        "Exemplo: Cadastro de clientes, Serviços, produtos, profissionais.\n",
        "\n",
        "Diante deste cenário, optei por fazer essas alterações utilizando a linguagem Python e pacote Pandas.<br> \n",
        "\n",
        "\n",
        "<b>Processo: Consiste em ler as planilhas, analisar, transformar os dados e carregar posteriormente em um banco de dados relacional (Mysql)<b>\n",
        "\n",
        "\n"
      ],
      "metadata": {
        "id": "OSUXZRs5Dpmy"
      }
    },
    {
      "cell_type": "code",
      "metadata": {
        "id": "jrq7LlAAxZ66"
      },
      "source": [
        "# Lendo planilha de clientes enviada e salvando o dataframe em uma variável\n",
        "df = pd.read_excel('/content/clientes.xlsx')"
      ],
      "execution_count": null,
      "outputs": []
    },
    {
      "cell_type": "code",
      "metadata": {
        "colab": {
          "base_uri": "https://localhost:8080/"
        },
        "id": "hMb82Y82I415",
        "outputId": "394f2ee8-1244-4361-9991-3c9f56c72690"
      },
      "source": [
        "# Verificando a quantidade linhas e colunas \n",
        "df.shape"
      ],
      "execution_count": null,
      "outputs": [
        {
          "output_type": "execute_result",
          "data": {
            "text/plain": [
              "(1449, 13)"
            ]
          },
          "metadata": {},
          "execution_count": 4
        }
      ]
    },
    {
      "cell_type": "code",
      "source": [
        "# Para padronização vamos deixar todas as colunas em minusculo\n",
        "df.columns = df.columns.str.lower()"
      ],
      "metadata": {
        "id": "Qlnuu6YA80v5"
      },
      "execution_count": null,
      "outputs": []
    },
    {
      "cell_type": "code",
      "metadata": {
        "colab": {
          "base_uri": "https://localhost:8080/",
          "height": 513
        },
        "id": "7lpo7hoFxgjI",
        "outputId": "c6b7fa89-2b1d-4f13-caf6-1242c5f842d8"
      },
      "source": [
        "df.head()"
      ],
      "execution_count": null,
      "outputs": [
        {
          "output_type": "execute_result",
          "data": {
            "text/html": [
              "\n",
              "  <div id=\"df-46f1ebc1-5d9f-49da-ab0e-8b99d2af2ebe\">\n",
              "    <div class=\"colab-df-container\">\n",
              "      <div>\n",
              "<style scoped>\n",
              "    .dataframe tbody tr th:only-of-type {\n",
              "        vertical-align: middle;\n",
              "    }\n",
              "\n",
              "    .dataframe tbody tr th {\n",
              "        vertical-align: top;\n",
              "    }\n",
              "\n",
              "    .dataframe thead th {\n",
              "        text-align: right;\n",
              "    }\n",
              "</style>\n",
              "<table border=\"1\" class=\"dataframe\">\n",
              "  <thead>\n",
              "    <tr style=\"text-align: right;\">\n",
              "      <th></th>\n",
              "      <th>salao_id</th>\n",
              "      <th>nome</th>\n",
              "      <th>cpf</th>\n",
              "      <th>datanasc</th>\n",
              "      <th>e-mail</th>\n",
              "      <th>celular</th>\n",
              "      <th>endereco</th>\n",
              "      <th>numero</th>\n",
              "      <th>complemento</th>\n",
              "      <th>unnamed: 9</th>\n",
              "      <th>unnamed: 10</th>\n",
              "      <th>cep</th>\n",
              "      <th>sexo</th>\n",
              "    </tr>\n",
              "  </thead>\n",
              "  <tbody>\n",
              "    <tr>\n",
              "      <th>0</th>\n",
              "      <td>76865</td>\n",
              "      <td>Abadia</td>\n",
              "      <td>NaN</td>\n",
              "      <td>30/11/-0001</td>\n",
              "      <td>NaN</td>\n",
              "      <td>NaN</td>\n",
              "      <td>NaN</td>\n",
              "      <td>NaN</td>\n",
              "      <td>NaN</td>\n",
              "      <td>NaN</td>\n",
              "      <td>NaN</td>\n",
              "      <td>NaN</td>\n",
              "      <td>NaN</td>\n",
              "    </tr>\n",
              "    <tr>\n",
              "      <th>1</th>\n",
              "      <td>76865</td>\n",
              "      <td>ABGAIL FELIPE DIAS</td>\n",
              "      <td>038.812.176-90</td>\n",
              "      <td>2000-08-01 00:00:00</td>\n",
              "      <td>NaN</td>\n",
              "      <td>(31) 98388-0909</td>\n",
              "      <td>Rua Osvaldo Lima e Silva</td>\n",
              "      <td>1264</td>\n",
              "      <td>NaN</td>\n",
              "      <td>Belo Horizonte</td>\n",
              "      <td>MG</td>\n",
              "      <td>30626-670</td>\n",
              "      <td>Feminino</td>\n",
              "    </tr>\n",
              "    <tr>\n",
              "      <th>2</th>\n",
              "      <td>76865</td>\n",
              "      <td>ABGAIR MOREIRA CAMPOS</td>\n",
              "      <td>417.616.696-72</td>\n",
              "      <td>1939-09-11 00:00:00</td>\n",
              "      <td>NaN</td>\n",
              "      <td>(31) 9961-25323</td>\n",
              "      <td>Rua Joaquim Aristóteles de Oliveira</td>\n",
              "      <td>54</td>\n",
              "      <td>NaN</td>\n",
              "      <td>Belo Horizonte</td>\n",
              "      <td>MG</td>\n",
              "      <td>31570-090</td>\n",
              "      <td>Feminino</td>\n",
              "    </tr>\n",
              "    <tr>\n",
              "      <th>3</th>\n",
              "      <td>76865</td>\n",
              "      <td>ADEISA CASSIA DRUMONT LOPES COLEN</td>\n",
              "      <td>NaN</td>\n",
              "      <td>30/11/-0001</td>\n",
              "      <td>NaN</td>\n",
              "      <td>(31) 9915-98237</td>\n",
              "      <td>NaN</td>\n",
              "      <td>NaN</td>\n",
              "      <td>NaN</td>\n",
              "      <td>NaN</td>\n",
              "      <td>NaN</td>\n",
              "      <td>NaN</td>\n",
              "      <td>NaN</td>\n",
              "    </tr>\n",
              "    <tr>\n",
              "      <th>4</th>\n",
              "      <td>76865</td>\n",
              "      <td>Adelaide Ferreira Cardoso</td>\n",
              "      <td>564.062.316-00</td>\n",
              "      <td>30/11/-0001</td>\n",
              "      <td>abgaircampos@ibest.com.br</td>\n",
              "      <td>(31) 9843-02815</td>\n",
              "      <td>Rua Eugênio Sales</td>\n",
              "      <td>560</td>\n",
              "      <td>NaN</td>\n",
              "      <td>Belo Horizonte</td>\n",
              "      <td>MG</td>\n",
              "      <td>31550-240</td>\n",
              "      <td>Feminino</td>\n",
              "    </tr>\n",
              "  </tbody>\n",
              "</table>\n",
              "</div>\n",
              "      <button class=\"colab-df-convert\" onclick=\"convertToInteractive('df-46f1ebc1-5d9f-49da-ab0e-8b99d2af2ebe')\"\n",
              "              title=\"Convert this dataframe to an interactive table.\"\n",
              "              style=\"display:none;\">\n",
              "        \n",
              "  <svg xmlns=\"http://www.w3.org/2000/svg\" height=\"24px\"viewBox=\"0 0 24 24\"\n",
              "       width=\"24px\">\n",
              "    <path d=\"M0 0h24v24H0V0z\" fill=\"none\"/>\n",
              "    <path d=\"M18.56 5.44l.94 2.06.94-2.06 2.06-.94-2.06-.94-.94-2.06-.94 2.06-2.06.94zm-11 1L8.5 8.5l.94-2.06 2.06-.94-2.06-.94L8.5 2.5l-.94 2.06-2.06.94zm10 10l.94 2.06.94-2.06 2.06-.94-2.06-.94-.94-2.06-.94 2.06-2.06.94z\"/><path d=\"M17.41 7.96l-1.37-1.37c-.4-.4-.92-.59-1.43-.59-.52 0-1.04.2-1.43.59L10.3 9.45l-7.72 7.72c-.78.78-.78 2.05 0 2.83L4 21.41c.39.39.9.59 1.41.59.51 0 1.02-.2 1.41-.59l7.78-7.78 2.81-2.81c.8-.78.8-2.07 0-2.86zM5.41 20L4 18.59l7.72-7.72 1.47 1.35L5.41 20z\"/>\n",
              "  </svg>\n",
              "      </button>\n",
              "      \n",
              "  <style>\n",
              "    .colab-df-container {\n",
              "      display:flex;\n",
              "      flex-wrap:wrap;\n",
              "      gap: 12px;\n",
              "    }\n",
              "\n",
              "    .colab-df-convert {\n",
              "      background-color: #E8F0FE;\n",
              "      border: none;\n",
              "      border-radius: 50%;\n",
              "      cursor: pointer;\n",
              "      display: none;\n",
              "      fill: #1967D2;\n",
              "      height: 32px;\n",
              "      padding: 0 0 0 0;\n",
              "      width: 32px;\n",
              "    }\n",
              "\n",
              "    .colab-df-convert:hover {\n",
              "      background-color: #E2EBFA;\n",
              "      box-shadow: 0px 1px 2px rgba(60, 64, 67, 0.3), 0px 1px 3px 1px rgba(60, 64, 67, 0.15);\n",
              "      fill: #174EA6;\n",
              "    }\n",
              "\n",
              "    [theme=dark] .colab-df-convert {\n",
              "      background-color: #3B4455;\n",
              "      fill: #D2E3FC;\n",
              "    }\n",
              "\n",
              "    [theme=dark] .colab-df-convert:hover {\n",
              "      background-color: #434B5C;\n",
              "      box-shadow: 0px 1px 3px 1px rgba(0, 0, 0, 0.15);\n",
              "      filter: drop-shadow(0px 1px 2px rgba(0, 0, 0, 0.3));\n",
              "      fill: #FFFFFF;\n",
              "    }\n",
              "  </style>\n",
              "\n",
              "      <script>\n",
              "        const buttonEl =\n",
              "          document.querySelector('#df-46f1ebc1-5d9f-49da-ab0e-8b99d2af2ebe button.colab-df-convert');\n",
              "        buttonEl.style.display =\n",
              "          google.colab.kernel.accessAllowed ? 'block' : 'none';\n",
              "\n",
              "        async function convertToInteractive(key) {\n",
              "          const element = document.querySelector('#df-46f1ebc1-5d9f-49da-ab0e-8b99d2af2ebe');\n",
              "          const dataTable =\n",
              "            await google.colab.kernel.invokeFunction('convertToInteractive',\n",
              "                                                     [key], {});\n",
              "          if (!dataTable) return;\n",
              "\n",
              "          const docLinkHtml = 'Like what you see? Visit the ' +\n",
              "            '<a target=\"_blank\" href=https://colab.research.google.com/notebooks/data_table.ipynb>data table notebook</a>'\n",
              "            + ' to learn more about interactive tables.';\n",
              "          element.innerHTML = '';\n",
              "          dataTable['output_type'] = 'display_data';\n",
              "          await google.colab.output.renderOutput(dataTable, element);\n",
              "          const docLink = document.createElement('div');\n",
              "          docLink.innerHTML = docLinkHtml;\n",
              "          element.appendChild(docLink);\n",
              "        }\n",
              "      </script>\n",
              "    </div>\n",
              "  </div>\n",
              "  "
            ],
            "text/plain": [
              "   salao_id                               nome  ...        cep      sexo\n",
              "0     76865                             Abadia  ...        NaN       NaN\n",
              "1     76865                 ABGAIL FELIPE DIAS  ...  30626-670  Feminino\n",
              "2     76865              ABGAIR MOREIRA CAMPOS  ...  31570-090  Feminino\n",
              "3     76865  ADEISA CASSIA DRUMONT LOPES COLEN  ...        NaN       NaN\n",
              "4     76865          Adelaide Ferreira Cardoso  ...  31550-240  Feminino\n",
              "\n",
              "[5 rows x 13 columns]"
            ]
          },
          "metadata": {},
          "execution_count": 6
        }
      ]
    },
    {
      "cell_type": "code",
      "metadata": {
        "id": "9inRUJcyxqXA"
      },
      "source": [
        "# Renomeando nome das colunas do dataframe, para o mesmo nome das colunas da base de dados a serem migradas as informações posteriormente.\n",
        "df.rename(columns={'codigo_cpf':'cpf',\n",
        "                   'fone1':'celular',\n",
        "                   'dtnasc':'datanasc',\n",
        "                   'fone2':'telefone'}, inplace=True)"
      ],
      "execution_count": null,
      "outputs": []
    },
    {
      "cell_type": "code",
      "metadata": {
        "id": "EF6cUWeYzL1I"
      },
      "source": [
        "# Selecionando apenas as variáveis que de fato vamos migrar para a nossa base de dados\n",
        "df = df[['nome','cpf','celular','telefone','endereco','bairro','obs','cep','cidade','uf', 'datanasc','numero']]"
      ],
      "execution_count": null,
      "outputs": []
    },
    {
      "cell_type": "code",
      "metadata": {
        "id": "O0cxXBg-0R9e"
      },
      "source": [
        "# Formatando o nome como title \n",
        "df['nome'] = df.nome.str.title()"
      ],
      "execution_count": null,
      "outputs": []
    },
    {
      "cell_type": "code",
      "metadata": {
        "colab": {
          "base_uri": "https://localhost:8080/",
          "height": 513
        },
        "id": "7HvtBXDJ0KPY",
        "outputId": "5d4afc3a-111f-498f-d115-5285f642c5f0"
      },
      "source": [
        "# Lendo os primeiros registros\n",
        "df.head()"
      ],
      "execution_count": null,
      "outputs": [
        {
          "output_type": "execute_result",
          "data": {
            "text/html": [
              "\n",
              "  <div id=\"df-80413c5a-701b-41e2-9036-512b5e729f5c\">\n",
              "    <div class=\"colab-df-container\">\n",
              "      <div>\n",
              "<style scoped>\n",
              "    .dataframe tbody tr th:only-of-type {\n",
              "        vertical-align: middle;\n",
              "    }\n",
              "\n",
              "    .dataframe tbody tr th {\n",
              "        vertical-align: top;\n",
              "    }\n",
              "\n",
              "    .dataframe thead th {\n",
              "        text-align: right;\n",
              "    }\n",
              "</style>\n",
              "<table border=\"1\" class=\"dataframe\">\n",
              "  <thead>\n",
              "    <tr style=\"text-align: right;\">\n",
              "      <th></th>\n",
              "      <th>salao_id</th>\n",
              "      <th>nome</th>\n",
              "      <th>cpf</th>\n",
              "      <th>datanasc</th>\n",
              "      <th>e-mail</th>\n",
              "      <th>celular</th>\n",
              "      <th>endereco</th>\n",
              "      <th>numero</th>\n",
              "      <th>complemento</th>\n",
              "      <th>unnamed: 9</th>\n",
              "      <th>unnamed: 10</th>\n",
              "      <th>cep</th>\n",
              "      <th>sexo</th>\n",
              "    </tr>\n",
              "  </thead>\n",
              "  <tbody>\n",
              "    <tr>\n",
              "      <th>0</th>\n",
              "      <td>76865</td>\n",
              "      <td>Abadia</td>\n",
              "      <td>NaN</td>\n",
              "      <td>30/11/-0001</td>\n",
              "      <td>NaN</td>\n",
              "      <td>NaN</td>\n",
              "      <td>NaN</td>\n",
              "      <td>NaN</td>\n",
              "      <td>NaN</td>\n",
              "      <td>NaN</td>\n",
              "      <td>NaN</td>\n",
              "      <td>NaN</td>\n",
              "      <td>NaN</td>\n",
              "    </tr>\n",
              "    <tr>\n",
              "      <th>1</th>\n",
              "      <td>76865</td>\n",
              "      <td>Abgail Felipe Dias</td>\n",
              "      <td>038.812.176-90</td>\n",
              "      <td>2000-08-01 00:00:00</td>\n",
              "      <td>NaN</td>\n",
              "      <td>(31) 98388-0909</td>\n",
              "      <td>Rua Osvaldo Lima e Silva</td>\n",
              "      <td>1264</td>\n",
              "      <td>NaN</td>\n",
              "      <td>Belo Horizonte</td>\n",
              "      <td>MG</td>\n",
              "      <td>30626-670</td>\n",
              "      <td>Feminino</td>\n",
              "    </tr>\n",
              "    <tr>\n",
              "      <th>2</th>\n",
              "      <td>76865</td>\n",
              "      <td>Abgair Moreira Campos</td>\n",
              "      <td>417.616.696-72</td>\n",
              "      <td>1939-09-11 00:00:00</td>\n",
              "      <td>NaN</td>\n",
              "      <td>(31) 9961-25323</td>\n",
              "      <td>Rua Joaquim Aristóteles de Oliveira</td>\n",
              "      <td>54</td>\n",
              "      <td>NaN</td>\n",
              "      <td>Belo Horizonte</td>\n",
              "      <td>MG</td>\n",
              "      <td>31570-090</td>\n",
              "      <td>Feminino</td>\n",
              "    </tr>\n",
              "    <tr>\n",
              "      <th>3</th>\n",
              "      <td>76865</td>\n",
              "      <td>Adeisa Cassia Drumont Lopes Colen</td>\n",
              "      <td>NaN</td>\n",
              "      <td>30/11/-0001</td>\n",
              "      <td>NaN</td>\n",
              "      <td>(31) 9915-98237</td>\n",
              "      <td>NaN</td>\n",
              "      <td>NaN</td>\n",
              "      <td>NaN</td>\n",
              "      <td>NaN</td>\n",
              "      <td>NaN</td>\n",
              "      <td>NaN</td>\n",
              "      <td>NaN</td>\n",
              "    </tr>\n",
              "    <tr>\n",
              "      <th>4</th>\n",
              "      <td>76865</td>\n",
              "      <td>Adelaide Ferreira Cardoso</td>\n",
              "      <td>564.062.316-00</td>\n",
              "      <td>30/11/-0001</td>\n",
              "      <td>abgaircampos@ibest.com.br</td>\n",
              "      <td>(31) 9843-02815</td>\n",
              "      <td>Rua Eugênio Sales</td>\n",
              "      <td>560</td>\n",
              "      <td>NaN</td>\n",
              "      <td>Belo Horizonte</td>\n",
              "      <td>MG</td>\n",
              "      <td>31550-240</td>\n",
              "      <td>Feminino</td>\n",
              "    </tr>\n",
              "  </tbody>\n",
              "</table>\n",
              "</div>\n",
              "      <button class=\"colab-df-convert\" onclick=\"convertToInteractive('df-80413c5a-701b-41e2-9036-512b5e729f5c')\"\n",
              "              title=\"Convert this dataframe to an interactive table.\"\n",
              "              style=\"display:none;\">\n",
              "        \n",
              "  <svg xmlns=\"http://www.w3.org/2000/svg\" height=\"24px\"viewBox=\"0 0 24 24\"\n",
              "       width=\"24px\">\n",
              "    <path d=\"M0 0h24v24H0V0z\" fill=\"none\"/>\n",
              "    <path d=\"M18.56 5.44l.94 2.06.94-2.06 2.06-.94-2.06-.94-.94-2.06-.94 2.06-2.06.94zm-11 1L8.5 8.5l.94-2.06 2.06-.94-2.06-.94L8.5 2.5l-.94 2.06-2.06.94zm10 10l.94 2.06.94-2.06 2.06-.94-2.06-.94-.94-2.06-.94 2.06-2.06.94z\"/><path d=\"M17.41 7.96l-1.37-1.37c-.4-.4-.92-.59-1.43-.59-.52 0-1.04.2-1.43.59L10.3 9.45l-7.72 7.72c-.78.78-.78 2.05 0 2.83L4 21.41c.39.39.9.59 1.41.59.51 0 1.02-.2 1.41-.59l7.78-7.78 2.81-2.81c.8-.78.8-2.07 0-2.86zM5.41 20L4 18.59l7.72-7.72 1.47 1.35L5.41 20z\"/>\n",
              "  </svg>\n",
              "      </button>\n",
              "      \n",
              "  <style>\n",
              "    .colab-df-container {\n",
              "      display:flex;\n",
              "      flex-wrap:wrap;\n",
              "      gap: 12px;\n",
              "    }\n",
              "\n",
              "    .colab-df-convert {\n",
              "      background-color: #E8F0FE;\n",
              "      border: none;\n",
              "      border-radius: 50%;\n",
              "      cursor: pointer;\n",
              "      display: none;\n",
              "      fill: #1967D2;\n",
              "      height: 32px;\n",
              "      padding: 0 0 0 0;\n",
              "      width: 32px;\n",
              "    }\n",
              "\n",
              "    .colab-df-convert:hover {\n",
              "      background-color: #E2EBFA;\n",
              "      box-shadow: 0px 1px 2px rgba(60, 64, 67, 0.3), 0px 1px 3px 1px rgba(60, 64, 67, 0.15);\n",
              "      fill: #174EA6;\n",
              "    }\n",
              "\n",
              "    [theme=dark] .colab-df-convert {\n",
              "      background-color: #3B4455;\n",
              "      fill: #D2E3FC;\n",
              "    }\n",
              "\n",
              "    [theme=dark] .colab-df-convert:hover {\n",
              "      background-color: #434B5C;\n",
              "      box-shadow: 0px 1px 3px 1px rgba(0, 0, 0, 0.15);\n",
              "      filter: drop-shadow(0px 1px 2px rgba(0, 0, 0, 0.3));\n",
              "      fill: #FFFFFF;\n",
              "    }\n",
              "  </style>\n",
              "\n",
              "      <script>\n",
              "        const buttonEl =\n",
              "          document.querySelector('#df-80413c5a-701b-41e2-9036-512b5e729f5c button.colab-df-convert');\n",
              "        buttonEl.style.display =\n",
              "          google.colab.kernel.accessAllowed ? 'block' : 'none';\n",
              "\n",
              "        async function convertToInteractive(key) {\n",
              "          const element = document.querySelector('#df-80413c5a-701b-41e2-9036-512b5e729f5c');\n",
              "          const dataTable =\n",
              "            await google.colab.kernel.invokeFunction('convertToInteractive',\n",
              "                                                     [key], {});\n",
              "          if (!dataTable) return;\n",
              "\n",
              "          const docLinkHtml = 'Like what you see? Visit the ' +\n",
              "            '<a target=\"_blank\" href=https://colab.research.google.com/notebooks/data_table.ipynb>data table notebook</a>'\n",
              "            + ' to learn more about interactive tables.';\n",
              "          element.innerHTML = '';\n",
              "          dataTable['output_type'] = 'display_data';\n",
              "          await google.colab.output.renderOutput(dataTable, element);\n",
              "          const docLink = document.createElement('div');\n",
              "          docLink.innerHTML = docLinkHtml;\n",
              "          element.appendChild(docLink);\n",
              "        }\n",
              "      </script>\n",
              "    </div>\n",
              "  </div>\n",
              "  "
            ],
            "text/plain": [
              "   salao_id                               nome  ...        cep      sexo\n",
              "0     76865                             Abadia  ...        NaN       NaN\n",
              "1     76865                 Abgail Felipe Dias  ...  30626-670  Feminino\n",
              "2     76865              Abgair Moreira Campos  ...  31570-090  Feminino\n",
              "3     76865  Adeisa Cassia Drumont Lopes Colen  ...        NaN       NaN\n",
              "4     76865          Adelaide Ferreira Cardoso  ...  31550-240  Feminino\n",
              "\n",
              "[5 rows x 13 columns]"
            ]
          },
          "metadata": {},
          "execution_count": 8
        }
      ]
    },
    {
      "cell_type": "markdown",
      "source": [
        "### Tratando variaveis numericas\n",
        "Para não ter incosistência no momento de inserir as informações no banco de dados e visualização na aplicação é necessário fazer alguns tratamentos.\n",
        "\n",
        "- coluna datananasc formato (yyyy/mm/dd)\n",
        "- coluna celular (retirar caracteres especiais exemplo (31) 98388-0909\n",
        "- coluna cep (retirar caracteres 31570-090)"
      ],
      "metadata": {
        "id": "YvkA4_zmAHU7"
      }
    },
    {
      "cell_type": "code",
      "metadata": {
        "id": "Ddqe1uHQ1xki"
      },
      "source": [
        "\n",
        "# função para retirar caracteres especiais\n",
        "import re \n",
        "def corrigir_celular(cel):\n",
        "    new_cel = re.sub(r\"[\\D]\",\"\",cel)\n",
        "    return new_cel"
      ],
      "execution_count": null,
      "outputs": []
    },
    {
      "cell_type": "code",
      "metadata": {
        "id": "U5yOiGV319u6"
      },
      "source": [
        "# Aplicando função para retirar caracteres especiais na coluna celular\n",
        "df['celular'] = df['celular'].fillna('').apply(str) \n",
        "df['celular'] = df['celular'].apply(corrigir_celular)"
      ],
      "execution_count": null,
      "outputs": []
    },
    {
      "cell_type": "code",
      "source": [
        "# Aplicando função para retirar caracteres especiais na coluna cep\n",
        "df['cep'] = df['cep'].fillna('').apply(str) \n",
        "df['cep'] = df['cep'].apply(corrigir_celular)"
      ],
      "metadata": {
        "id": "935i8P-44gPQ"
      },
      "execution_count": null,
      "outputs": []
    },
    {
      "cell_type": "code",
      "source": [
        "# Aplicando função para retirar caracteres especiais na coluna cpf\n",
        "df['cpf'] = df['cpf'].fillna('').apply(str) \n",
        "df['cpf'] = df['cpf'].apply(corrigir_celular)"
      ],
      "metadata": {
        "id": "kFbXOnVL45zZ"
      },
      "execution_count": null,
      "outputs": []
    },
    {
      "cell_type": "code",
      "source": [
        "# Lendo os primeiros registros\n",
        "df.head()"
      ],
      "metadata": {
        "id": "MRDTKeoL1DpX",
        "colab": {
          "base_uri": "https://localhost:8080/",
          "height": 513
        },
        "outputId": "3cfea53c-bc29-42d8-d353-50799a41287a"
      },
      "execution_count": null,
      "outputs": [
        {
          "output_type": "execute_result",
          "data": {
            "text/html": [
              "\n",
              "  <div id=\"df-25283a51-e73c-43c0-86de-16d11ecc095b\">\n",
              "    <div class=\"colab-df-container\">\n",
              "      <div>\n",
              "<style scoped>\n",
              "    .dataframe tbody tr th:only-of-type {\n",
              "        vertical-align: middle;\n",
              "    }\n",
              "\n",
              "    .dataframe tbody tr th {\n",
              "        vertical-align: top;\n",
              "    }\n",
              "\n",
              "    .dataframe thead th {\n",
              "        text-align: right;\n",
              "    }\n",
              "</style>\n",
              "<table border=\"1\" class=\"dataframe\">\n",
              "  <thead>\n",
              "    <tr style=\"text-align: right;\">\n",
              "      <th></th>\n",
              "      <th>salao_id</th>\n",
              "      <th>nome</th>\n",
              "      <th>cpf</th>\n",
              "      <th>datanasc</th>\n",
              "      <th>e-mail</th>\n",
              "      <th>celular</th>\n",
              "      <th>endereco</th>\n",
              "      <th>numero</th>\n",
              "      <th>complemento</th>\n",
              "      <th>unnamed: 9</th>\n",
              "      <th>unnamed: 10</th>\n",
              "      <th>cep</th>\n",
              "      <th>sexo</th>\n",
              "    </tr>\n",
              "  </thead>\n",
              "  <tbody>\n",
              "    <tr>\n",
              "      <th>0</th>\n",
              "      <td>76865</td>\n",
              "      <td>Abadia</td>\n",
              "      <td></td>\n",
              "      <td>30/11/-0001</td>\n",
              "      <td>NaN</td>\n",
              "      <td></td>\n",
              "      <td>NaN</td>\n",
              "      <td>NaN</td>\n",
              "      <td>NaN</td>\n",
              "      <td>NaN</td>\n",
              "      <td>NaN</td>\n",
              "      <td></td>\n",
              "      <td>NaN</td>\n",
              "    </tr>\n",
              "    <tr>\n",
              "      <th>1</th>\n",
              "      <td>76865</td>\n",
              "      <td>Abgail Felipe Dias</td>\n",
              "      <td>03881217690</td>\n",
              "      <td>2000-08-01 00:00:00</td>\n",
              "      <td>NaN</td>\n",
              "      <td>31983880909</td>\n",
              "      <td>Rua Osvaldo Lima e Silva</td>\n",
              "      <td>1264</td>\n",
              "      <td>NaN</td>\n",
              "      <td>Belo Horizonte</td>\n",
              "      <td>MG</td>\n",
              "      <td>30626670</td>\n",
              "      <td>F</td>\n",
              "    </tr>\n",
              "    <tr>\n",
              "      <th>2</th>\n",
              "      <td>76865</td>\n",
              "      <td>Abgair Moreira Campos</td>\n",
              "      <td>41761669672</td>\n",
              "      <td>1939-09-11 00:00:00</td>\n",
              "      <td>NaN</td>\n",
              "      <td>31996125323</td>\n",
              "      <td>Rua Joaquim Aristóteles de Oliveira</td>\n",
              "      <td>54</td>\n",
              "      <td>NaN</td>\n",
              "      <td>Belo Horizonte</td>\n",
              "      <td>MG</td>\n",
              "      <td>31570090</td>\n",
              "      <td>F</td>\n",
              "    </tr>\n",
              "    <tr>\n",
              "      <th>3</th>\n",
              "      <td>76865</td>\n",
              "      <td>Adeisa Cassia Drumont Lopes Colen</td>\n",
              "      <td></td>\n",
              "      <td>30/11/-0001</td>\n",
              "      <td>NaN</td>\n",
              "      <td>31991598237</td>\n",
              "      <td>NaN</td>\n",
              "      <td>NaN</td>\n",
              "      <td>NaN</td>\n",
              "      <td>NaN</td>\n",
              "      <td>NaN</td>\n",
              "      <td></td>\n",
              "      <td>NaN</td>\n",
              "    </tr>\n",
              "    <tr>\n",
              "      <th>4</th>\n",
              "      <td>76865</td>\n",
              "      <td>Adelaide Ferreira Cardoso</td>\n",
              "      <td>56406231600</td>\n",
              "      <td>30/11/-0001</td>\n",
              "      <td>abgaircampos@ibest.com.br</td>\n",
              "      <td>31984302815</td>\n",
              "      <td>Rua Eugênio Sales</td>\n",
              "      <td>560</td>\n",
              "      <td>NaN</td>\n",
              "      <td>Belo Horizonte</td>\n",
              "      <td>MG</td>\n",
              "      <td>31550240</td>\n",
              "      <td>F</td>\n",
              "    </tr>\n",
              "  </tbody>\n",
              "</table>\n",
              "</div>\n",
              "      <button class=\"colab-df-convert\" onclick=\"convertToInteractive('df-25283a51-e73c-43c0-86de-16d11ecc095b')\"\n",
              "              title=\"Convert this dataframe to an interactive table.\"\n",
              "              style=\"display:none;\">\n",
              "        \n",
              "  <svg xmlns=\"http://www.w3.org/2000/svg\" height=\"24px\"viewBox=\"0 0 24 24\"\n",
              "       width=\"24px\">\n",
              "    <path d=\"M0 0h24v24H0V0z\" fill=\"none\"/>\n",
              "    <path d=\"M18.56 5.44l.94 2.06.94-2.06 2.06-.94-2.06-.94-.94-2.06-.94 2.06-2.06.94zm-11 1L8.5 8.5l.94-2.06 2.06-.94-2.06-.94L8.5 2.5l-.94 2.06-2.06.94zm10 10l.94 2.06.94-2.06 2.06-.94-2.06-.94-.94-2.06-.94 2.06-2.06.94z\"/><path d=\"M17.41 7.96l-1.37-1.37c-.4-.4-.92-.59-1.43-.59-.52 0-1.04.2-1.43.59L10.3 9.45l-7.72 7.72c-.78.78-.78 2.05 0 2.83L4 21.41c.39.39.9.59 1.41.59.51 0 1.02-.2 1.41-.59l7.78-7.78 2.81-2.81c.8-.78.8-2.07 0-2.86zM5.41 20L4 18.59l7.72-7.72 1.47 1.35L5.41 20z\"/>\n",
              "  </svg>\n",
              "      </button>\n",
              "      \n",
              "  <style>\n",
              "    .colab-df-container {\n",
              "      display:flex;\n",
              "      flex-wrap:wrap;\n",
              "      gap: 12px;\n",
              "    }\n",
              "\n",
              "    .colab-df-convert {\n",
              "      background-color: #E8F0FE;\n",
              "      border: none;\n",
              "      border-radius: 50%;\n",
              "      cursor: pointer;\n",
              "      display: none;\n",
              "      fill: #1967D2;\n",
              "      height: 32px;\n",
              "      padding: 0 0 0 0;\n",
              "      width: 32px;\n",
              "    }\n",
              "\n",
              "    .colab-df-convert:hover {\n",
              "      background-color: #E2EBFA;\n",
              "      box-shadow: 0px 1px 2px rgba(60, 64, 67, 0.3), 0px 1px 3px 1px rgba(60, 64, 67, 0.15);\n",
              "      fill: #174EA6;\n",
              "    }\n",
              "\n",
              "    [theme=dark] .colab-df-convert {\n",
              "      background-color: #3B4455;\n",
              "      fill: #D2E3FC;\n",
              "    }\n",
              "\n",
              "    [theme=dark] .colab-df-convert:hover {\n",
              "      background-color: #434B5C;\n",
              "      box-shadow: 0px 1px 3px 1px rgba(0, 0, 0, 0.15);\n",
              "      filter: drop-shadow(0px 1px 2px rgba(0, 0, 0, 0.3));\n",
              "      fill: #FFFFFF;\n",
              "    }\n",
              "  </style>\n",
              "\n",
              "      <script>\n",
              "        const buttonEl =\n",
              "          document.querySelector('#df-25283a51-e73c-43c0-86de-16d11ecc095b button.colab-df-convert');\n",
              "        buttonEl.style.display =\n",
              "          google.colab.kernel.accessAllowed ? 'block' : 'none';\n",
              "\n",
              "        async function convertToInteractive(key) {\n",
              "          const element = document.querySelector('#df-25283a51-e73c-43c0-86de-16d11ecc095b');\n",
              "          const dataTable =\n",
              "            await google.colab.kernel.invokeFunction('convertToInteractive',\n",
              "                                                     [key], {});\n",
              "          if (!dataTable) return;\n",
              "\n",
              "          const docLinkHtml = 'Like what you see? Visit the ' +\n",
              "            '<a target=\"_blank\" href=https://colab.research.google.com/notebooks/data_table.ipynb>data table notebook</a>'\n",
              "            + ' to learn more about interactive tables.';\n",
              "          element.innerHTML = '';\n",
              "          dataTable['output_type'] = 'display_data';\n",
              "          await google.colab.output.renderOutput(dataTable, element);\n",
              "          const docLink = document.createElement('div');\n",
              "          docLink.innerHTML = docLinkHtml;\n",
              "          element.appendChild(docLink);\n",
              "        }\n",
              "      </script>\n",
              "    </div>\n",
              "  </div>\n",
              "  "
            ],
            "text/plain": [
              "   salao_id                               nome  ...       cep sexo\n",
              "0     76865                             Abadia  ...            NaN\n",
              "1     76865                 Abgail Felipe Dias  ...  30626670    F\n",
              "2     76865              Abgair Moreira Campos  ...  31570090    F\n",
              "3     76865  Adeisa Cassia Drumont Lopes Colen  ...            NaN\n",
              "4     76865          Adelaide Ferreira Cardoso  ...  31550240    F\n",
              "\n",
              "[5 rows x 13 columns]"
            ]
          },
          "metadata": {},
          "execution_count": 18
        }
      ]
    },
    {
      "cell_type": "code",
      "metadata": {
        "colab": {
          "base_uri": "https://localhost:8080/"
        },
        "id": "bSiGfSgdJd7w",
        "outputId": "950fa6f6-0ec7-4ece-d3a3-e40a9c7e4cc2"
      },
      "source": [
        "# Verificando os valores unicos da coluna sexo\n",
        "df.sexo.unique()"
      ],
      "execution_count": null,
      "outputs": [
        {
          "output_type": "execute_result",
          "data": {
            "text/plain": [
              "array([nan, 'Feminino', 'Masculino', '---'], dtype=object)"
            ]
          },
          "metadata": {},
          "execution_count": 9
        }
      ]
    },
    {
      "cell_type": "code",
      "metadata": {
        "id": "aSWriBvf0dQo"
      },
      "source": [
        "# Tratando a coluna sexo \n",
        "df.loc[df.sexo == 'Masculino','sexo'] = 'M'\n",
        "df.loc[df.sexo == 'Feminino','sexo'] = 'F'\n",
        "df.loc[df.sexo == 'feminino','sexo'] = 'F'\n",
        "df.loc[df.sexo == '---','sexo'] = ''\n",
        "df.loc[df.sexo == ' ','sexo'] = ''"
      ],
      "execution_count": null,
      "outputs": []
    },
    {
      "cell_type": "code",
      "metadata": {
        "id": "6pDOB3li2vE4"
      },
      "source": [
        "# Adicionando colunas necessárias no dataframe para posterior importação na base de dados\n",
        "\n",
        "df['salao_id']= 80524  \n",
        "df['cliente']= 1\n",
        "df['responsavel'] = 'Douglas Fernando'"
      ],
      "execution_count": null,
      "outputs": []
    },
    {
      "cell_type": "code",
      "metadata": {
        "colab": {
          "base_uri": "https://localhost:8080/"
        },
        "id": "XdtjHu8B3anz",
        "outputId": "c333e35a-5fb7-401a-bd86-f17f48eb2061"
      },
      "source": [
        "# Verificando se existem registros duplicados no cadastro de clientes\n",
        "\n",
        "df[['nome','celular','endereco','datanasc']].duplicated().sum()\n",
        "\n",
        "# Nenhum registro encontrado"
      ],
      "execution_count": null,
      "outputs": [
        {
          "output_type": "execute_result",
          "data": {
            "text/plain": [
              "0"
            ]
          },
          "metadata": {},
          "execution_count": 19
        }
      ]
    },
    {
      "cell_type": "code",
      "metadata": {
        "colab": {
          "base_uri": "https://localhost:8080/"
        },
        "id": "Pw23JxcAsYcG",
        "outputId": "4b85e072-8484-43eb-c21d-9acae1aec458"
      },
      "source": [
        "# Verificando tamanho \n",
        "df.shape"
      ],
      "execution_count": null,
      "outputs": [
        {
          "output_type": "execute_result",
          "data": {
            "text/plain": [
              "(1449, 13)"
            ]
          },
          "metadata": {},
          "execution_count": 20
        }
      ]
    },
    {
      "cell_type": "code",
      "metadata": {
        "id": "wW2Gf1MksT8f"
      },
      "source": [
        "# Salvando dataframe formatado em excel, pronto para ser inserido na base de dado\n",
        "df.to_excel('/content/clientes_1449.xlsx', index=False)"
      ],
      "execution_count": null,
      "outputs": []
    }
  ]
}