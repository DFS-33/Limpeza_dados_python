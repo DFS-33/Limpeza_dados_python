{
  "nbformat": 4,
  "nbformat_minor": 0,
  "metadata": {
    "colab": {
      "name": "Normalização_Dataframe1.ipynb",
      "provenance": [],
      "collapsed_sections": [],
      "authorship_tag": "ABX9TyPegpRSYgodl7QhtnccPyS8",
      "include_colab_link": true
    },
    "kernelspec": {
      "name": "python3",
      "display_name": "Python 3"
    },
    "language_info": {
      "name": "python"
    }
  },
  "cells": [
    {
      "cell_type": "markdown",
      "metadata": {
        "id": "view-in-github",
        "colab_type": "text"
      },
      "source": [
        "<a href=\"https://colab.research.google.com/github/DFS-33/Limpeza_dados_python/blob/main/Normaliza%C3%A7%C3%A3o_Dataframe1.ipynb\" target=\"_parent\"><img src=\"https://colab.research.google.com/assets/colab-badge.svg\" alt=\"Open In Colab\"/></a>"
      ]
    },
    {
      "cell_type": "code",
      "execution_count": null,
      "metadata": {
        "id": "NchVdDJ4Z2vk"
      },
      "outputs": [],
      "source": [
        "import pandas as pd\n",
        "import copy\n",
        "import json\n",
        "from pandas import pandas_sql"
      ]
    },
    {
      "cell_type": "code",
      "source": [
        "# Lendo arquivo JSON em formato de dicionário\n",
        "from IPython.core.display import JSON\n",
        "with open('/content/get-customers-personal-identifications-1.1.json') as datafile:\n",
        "    data = json.load(datafile)"
      ],
      "metadata": {
        "id": "Igyqp-I1bQ0H"
      },
      "execution_count": null,
      "outputs": []
    },
    {
      "cell_type": "code",
      "source": [
        "# Visualizando o tipo do dado\n",
        "type(data)"
      ],
      "metadata": {
        "colab": {
          "base_uri": "https://localhost:8080/"
        },
        "id": "kDClMizJszPq",
        "outputId": "931b6ac2-242f-4412-e6ce-c8db7506b92f"
      },
      "execution_count": null,
      "outputs": [
        {
          "output_type": "execute_result",
          "data": {
            "text/plain": [
              "dict"
            ]
          },
          "metadata": {},
          "execution_count": 3
        }
      ]
    },
    {
      "cell_type": "code",
      "source": [
        "# Visualizando o dicionário de uma forma melhor\n",
        "pprint(data)"
      ],
      "metadata": {
        "colab": {
          "base_uri": "https://localhost:8080/"
        },
        "id": "-dU_MY41cEHj",
        "outputId": "3e0d2ff2-2bd5-4763-be4e-131dab770273"
      },
      "execution_count": null,
      "outputs": [
        {
          "output_type": "stream",
          "name": "stdout",
          "text": [
            "{'data': [{'birthDate': '1995-05-18',\n",
            "           'brandName': 'Banco do Brasil S.A',\n",
            "           'civilName': 'Gabriel Nunes',\n",
            "           'companyCnpj': ['00000000000191'],\n",
            "           'contacts': {'emails': [{'email': 'gabriel.nunes@email.com',\n",
            "                                    'isMain': True}],\n",
            "                        'phones': [{'additionalInfo': 'Informações adicionais.',\n",
            "                                    'areaCode': '69',\n",
            "                                    'countryCallingCode': '55',\n",
            "                                    'isMain': True,\n",
            "                                    'number': '325421328',\n",
            "                                    'phoneExtension': '123',\n",
            "                                    'type': 'FIXO'}],\n",
            "                        'postalAddresses': [{'additionalInfo': 'Fundos',\n",
            "                                             'address': 'Avenida Jorge '\n",
            "                                                        'Teixeira 3628',\n",
            "                                             'country': 'Brasil',\n",
            "                                             'countryCode': 'BRA',\n",
            "                                             'countrySubDivision': 'RO',\n",
            "                                             'districtName': 'Centro',\n",
            "                                             'geographicCoordinates': {'latitude': '-23.5211',\n",
            "                                                                       'longitude': '-53.7264'},\n",
            "                                             'ibgeTownCode': '3554128625',\n",
            "                                             'isMain': True,\n",
            "                                             'postCode': '76862970',\n",
            "                                             'townName': 'Alto Paraíso'}]},\n",
            "           'documents': {'cpfNumber': '87517400444',\n",
            "                         'passportCountry': 'BRA',\n",
            "                         'passportExpirationDate': '2022-05-21',\n",
            "                         'passportIssueDate': '2012-05-21',\n",
            "                         'passportNumber': '46779984543055562918'},\n",
            "           'filiation': [{'civilName': 'Juliana Nunes',\n",
            "                          'socialName': 'NA',\n",
            "                          'type': 'MAE'}],\n",
            "           'hasBrazilianNationality': True,\n",
            "           'maritalStatusAdditionalInfo': '',\n",
            "           'maritalStatusCode': 'SOLTEIRO',\n",
            "           'nationality': [{'documents': [{'country': '',\n",
            "                                           'expirationDate': '',\n",
            "                                           'issueDate': '',\n",
            "                                           'number': '',\n",
            "                                           'type': '',\n",
            "                                           'typeAdditionalInfo': ''}],\n",
            "                            'otherNationalitiesInfo': ''}],\n",
            "           'otherDocuments': [{'additionalInfo': 'SSP/RS',\n",
            "                               'checkDigit': 'B',\n",
            "                               'expirationDate': '2025-05-21',\n",
            "                               'number': '58438287',\n",
            "                               'type': 'CNH',\n",
            "                               'typeAdditionalInfo': 'NA'}],\n",
            "           'personalId': '1f1-fe9c-b8d911eb85-29024',\n",
            "           'sex': 'MASCULINO',\n",
            "           'socialName': '',\n",
            "           'updateDateTime': '2021-05-21T08:30:00Z'}],\n",
            " 'links': {'self': 'https://opendata.api.bb.com.br/open-banking/customers/v1/personal/identifications'},\n",
            " 'meta': {'requestDateTime': '2021-05-21T08:30:00Z',\n",
            "          'totalPages': 1,\n",
            "          'totalRecords': 1}}\n"
          ]
        }
      ]
    },
    {
      "cell_type": "code",
      "source": [
        "# Visualizando as chaves do dicionário\n",
        "data.keys()"
      ],
      "metadata": {
        "colab": {
          "base_uri": "https://localhost:8080/"
        },
        "id": "8nYeDewaqkaa",
        "outputId": "f0fc4384-95e1-4671-aa25-42c9e9c63b10"
      },
      "execution_count": null,
      "outputs": [
        {
          "output_type": "execute_result",
          "data": {
            "text/plain": [
              "dict_keys(['data', 'links', 'meta'])"
            ]
          },
          "metadata": {},
          "execution_count": 5
        }
      ]
    },
    {
      "cell_type": "code",
      "source": [
        "# Transformando em DataFrame as chaves data, links e meta\n",
        "df_data = pd.DataFrame(data['data'])\n",
        "df_link = pd.DataFrame(data['links'],index=[0])\n",
        "df_meta = pd.DataFrame(data['meta'],index=[0])\n"
      ],
      "metadata": {
        "id": "82duOkCPdvNn"
      },
      "execution_count": null,
      "outputs": []
    },
    {
      "cell_type": "markdown",
      "source": [
        "####  Normalizando colunas aninhadas\n",
        "colunas:  \n",
        "documents<br>\n",
        "otherDocuments<br>\n",
        "nationality<br>\n",
        "filiation<br>\n",
        "*contacts<br>"
      ],
      "metadata": {
        "id": "ZUIPJIGewTou"
      }
    },
    {
      "cell_type": "code",
      "source": [
        "## Normalizando colunas \n",
        "df_filiation = pd.json_normalize(df_data['filiation'])\n",
        "df_filiation = pd.json_normalize(df_filiation[0])\n",
        "df_nationality = pd.json_normalize(df_data['nationality'])\n",
        "df_nationality = pd.json_normalize(df_nationality[0])\n",
        "df_otherDocuments = pd.json_normalize(df_data['otherDocuments'])\n",
        "df_otherDocuments = pd.json_normalize(df_otherDocuments[0])\n",
        "df_documents = pd.json_normalize(df_data['documents'])\n",
        "\n",
        "## Tratando dataframe de contacts \n",
        "df_contato= pd.json_normalize(df_data['contacts'],record_path=['postalAddresses'], meta=['phones','emails'])\n",
        "df_phones = pd.json_normalize(df_contato['phones'])\n",
        "df_emails = pd.json_normalize(df_contato['emails'])\n",
        "\n",
        "## Concatenando \n",
        "df_contacts = pd.concat([df_contato,df_phones,df_emails],axis=1)\n",
        "df_contacts.drop(columns=['phones','emails'],inplace=True)\n",
        "\n",
        "# Dataframe_final_contato df_contacts\n",
        "\n",
        "# Concatenando todas as colunas normalizadas e gerando o data frame final df_customers\n",
        "df_customers = pd.concat([df_data,df_filiation,df_nationality,df_otherDocuments,df_documents,df_contacts],axis=1)\n",
        "df_customers.drop(columns=['documents','otherDocuments','nationality','filiation','contacts','documents'],inplace=True)"
      ],
      "metadata": {
        "id": "3Unh5m35sPSZ"
      },
      "execution_count": null,
      "outputs": []
    },
    {
      "cell_type": "code",
      "source": [
        "### Dataframe final gerado \n",
        "display(df_customers)"
      ],
      "metadata": {
        "colab": {
          "base_uri": "https://localhost:8080/",
          "height": 196
        },
        "id": "CoCAPDjLd5MP",
        "outputId": "2ca244dd-e377-4289-e3cd-486956b09b18"
      },
      "execution_count": null,
      "outputs": [
        {
          "output_type": "display_data",
          "data": {
            "text/html": [
              "\n",
              "  <div id=\"df-96e5ceea-7a5d-4e8b-bbde-1e80ffd013c5\">\n",
              "    <div class=\"colab-df-container\">\n",
              "      <div>\n",
              "<style scoped>\n",
              "    .dataframe tbody tr th:only-of-type {\n",
              "        vertical-align: middle;\n",
              "    }\n",
              "\n",
              "    .dataframe tbody tr th {\n",
              "        vertical-align: top;\n",
              "    }\n",
              "\n",
              "    .dataframe thead th {\n",
              "        text-align: right;\n",
              "    }\n",
              "</style>\n",
              "<table border=\"1\" class=\"dataframe\">\n",
              "  <thead>\n",
              "    <tr style=\"text-align: right;\">\n",
              "      <th></th>\n",
              "      <th>updateDateTime</th>\n",
              "      <th>personalId</th>\n",
              "      <th>brandName</th>\n",
              "      <th>civilName</th>\n",
              "      <th>socialName</th>\n",
              "      <th>birthDate</th>\n",
              "      <th>maritalStatusCode</th>\n",
              "      <th>maritalStatusAdditionalInfo</th>\n",
              "      <th>sex</th>\n",
              "      <th>companyCnpj</th>\n",
              "      <th>hasBrazilianNationality</th>\n",
              "      <th>type</th>\n",
              "      <th>civilName</th>\n",
              "      <th>socialName</th>\n",
              "      <th>otherNationalitiesInfo</th>\n",
              "      <th>type</th>\n",
              "      <th>typeAdditionalInfo</th>\n",
              "      <th>number</th>\n",
              "      <th>checkDigit</th>\n",
              "      <th>additionalInfo</th>\n",
              "      <th>expirationDate</th>\n",
              "      <th>cpfNumber</th>\n",
              "      <th>passportNumber</th>\n",
              "      <th>passportCountry</th>\n",
              "      <th>passportExpirationDate</th>\n",
              "      <th>passportIssueDate</th>\n",
              "      <th>isMain</th>\n",
              "      <th>address</th>\n",
              "      <th>additionalInfo</th>\n",
              "      <th>districtName</th>\n",
              "      <th>townName</th>\n",
              "      <th>ibgeTownCode</th>\n",
              "      <th>countrySubDivision</th>\n",
              "      <th>postCode</th>\n",
              "      <th>country</th>\n",
              "      <th>countryCode</th>\n",
              "      <th>geographicCoordinates.latitude</th>\n",
              "      <th>geographicCoordinates.longitude</th>\n",
              "      <th>isMain</th>\n",
              "      <th>type</th>\n",
              "      <th>additionalInfo</th>\n",
              "      <th>countryCallingCode</th>\n",
              "      <th>areaCode</th>\n",
              "      <th>number</th>\n",
              "      <th>phoneExtension</th>\n",
              "      <th>isMain</th>\n",
              "      <th>email</th>\n",
              "    </tr>\n",
              "  </thead>\n",
              "  <tbody>\n",
              "    <tr>\n",
              "      <th>0</th>\n",
              "      <td>2021-05-21T08:30:00Z</td>\n",
              "      <td>1f1-fe9c-b8d911eb85-29024</td>\n",
              "      <td>Banco do Brasil S.A</td>\n",
              "      <td>Gabriel Nunes</td>\n",
              "      <td></td>\n",
              "      <td>1995-05-18</td>\n",
              "      <td>SOLTEIRO</td>\n",
              "      <td></td>\n",
              "      <td>MASCULINO</td>\n",
              "      <td>[00000000000191]</td>\n",
              "      <td>True</td>\n",
              "      <td>MAE</td>\n",
              "      <td>Juliana Nunes</td>\n",
              "      <td>NA</td>\n",
              "      <td></td>\n",
              "      <td>CNH</td>\n",
              "      <td>NA</td>\n",
              "      <td>58438287</td>\n",
              "      <td>B</td>\n",
              "      <td>SSP/RS</td>\n",
              "      <td>2025-05-21</td>\n",
              "      <td>87517400444</td>\n",
              "      <td>46779984543055562918</td>\n",
              "      <td>BRA</td>\n",
              "      <td>2022-05-21</td>\n",
              "      <td>2012-05-21</td>\n",
              "      <td>True</td>\n",
              "      <td>Avenida Jorge Teixeira 3628</td>\n",
              "      <td>Fundos</td>\n",
              "      <td>Centro</td>\n",
              "      <td>Alto Paraíso</td>\n",
              "      <td>3554128625</td>\n",
              "      <td>RO</td>\n",
              "      <td>76862970</td>\n",
              "      <td>Brasil</td>\n",
              "      <td>BRA</td>\n",
              "      <td>-23.5211</td>\n",
              "      <td>-53.7264</td>\n",
              "      <td>True</td>\n",
              "      <td>FIXO</td>\n",
              "      <td>Informações adicionais.</td>\n",
              "      <td>55</td>\n",
              "      <td>69</td>\n",
              "      <td>325421328</td>\n",
              "      <td>123</td>\n",
              "      <td>True</td>\n",
              "      <td>gabriel.nunes@email.com</td>\n",
              "    </tr>\n",
              "  </tbody>\n",
              "</table>\n",
              "</div>\n",
              "      <button class=\"colab-df-convert\" onclick=\"convertToInteractive('df-96e5ceea-7a5d-4e8b-bbde-1e80ffd013c5')\"\n",
              "              title=\"Convert this dataframe to an interactive table.\"\n",
              "              style=\"display:none;\">\n",
              "        \n",
              "  <svg xmlns=\"http://www.w3.org/2000/svg\" height=\"24px\"viewBox=\"0 0 24 24\"\n",
              "       width=\"24px\">\n",
              "    <path d=\"M0 0h24v24H0V0z\" fill=\"none\"/>\n",
              "    <path d=\"M18.56 5.44l.94 2.06.94-2.06 2.06-.94-2.06-.94-.94-2.06-.94 2.06-2.06.94zm-11 1L8.5 8.5l.94-2.06 2.06-.94-2.06-.94L8.5 2.5l-.94 2.06-2.06.94zm10 10l.94 2.06.94-2.06 2.06-.94-2.06-.94-.94-2.06-.94 2.06-2.06.94z\"/><path d=\"M17.41 7.96l-1.37-1.37c-.4-.4-.92-.59-1.43-.59-.52 0-1.04.2-1.43.59L10.3 9.45l-7.72 7.72c-.78.78-.78 2.05 0 2.83L4 21.41c.39.39.9.59 1.41.59.51 0 1.02-.2 1.41-.59l7.78-7.78 2.81-2.81c.8-.78.8-2.07 0-2.86zM5.41 20L4 18.59l7.72-7.72 1.47 1.35L5.41 20z\"/>\n",
              "  </svg>\n",
              "      </button>\n",
              "      \n",
              "  <style>\n",
              "    .colab-df-container {\n",
              "      display:flex;\n",
              "      flex-wrap:wrap;\n",
              "      gap: 12px;\n",
              "    }\n",
              "\n",
              "    .colab-df-convert {\n",
              "      background-color: #E8F0FE;\n",
              "      border: none;\n",
              "      border-radius: 50%;\n",
              "      cursor: pointer;\n",
              "      display: none;\n",
              "      fill: #1967D2;\n",
              "      height: 32px;\n",
              "      padding: 0 0 0 0;\n",
              "      width: 32px;\n",
              "    }\n",
              "\n",
              "    .colab-df-convert:hover {\n",
              "      background-color: #E2EBFA;\n",
              "      box-shadow: 0px 1px 2px rgba(60, 64, 67, 0.3), 0px 1px 3px 1px rgba(60, 64, 67, 0.15);\n",
              "      fill: #174EA6;\n",
              "    }\n",
              "\n",
              "    [theme=dark] .colab-df-convert {\n",
              "      background-color: #3B4455;\n",
              "      fill: #D2E3FC;\n",
              "    }\n",
              "\n",
              "    [theme=dark] .colab-df-convert:hover {\n",
              "      background-color: #434B5C;\n",
              "      box-shadow: 0px 1px 3px 1px rgba(0, 0, 0, 0.15);\n",
              "      filter: drop-shadow(0px 1px 2px rgba(0, 0, 0, 0.3));\n",
              "      fill: #FFFFFF;\n",
              "    }\n",
              "  </style>\n",
              "\n",
              "      <script>\n",
              "        const buttonEl =\n",
              "          document.querySelector('#df-96e5ceea-7a5d-4e8b-bbde-1e80ffd013c5 button.colab-df-convert');\n",
              "        buttonEl.style.display =\n",
              "          google.colab.kernel.accessAllowed ? 'block' : 'none';\n",
              "\n",
              "        async function convertToInteractive(key) {\n",
              "          const element = document.querySelector('#df-96e5ceea-7a5d-4e8b-bbde-1e80ffd013c5');\n",
              "          const dataTable =\n",
              "            await google.colab.kernel.invokeFunction('convertToInteractive',\n",
              "                                                     [key], {});\n",
              "          if (!dataTable) return;\n",
              "\n",
              "          const docLinkHtml = 'Like what you see? Visit the ' +\n",
              "            '<a target=\"_blank\" href=https://colab.research.google.com/notebooks/data_table.ipynb>data table notebook</a>'\n",
              "            + ' to learn more about interactive tables.';\n",
              "          element.innerHTML = '';\n",
              "          dataTable['output_type'] = 'display_data';\n",
              "          await google.colab.output.renderOutput(dataTable, element);\n",
              "          const docLink = document.createElement('div');\n",
              "          docLink.innerHTML = docLinkHtml;\n",
              "          element.appendChild(docLink);\n",
              "        }\n",
              "      </script>\n",
              "    </div>\n",
              "  </div>\n",
              "  "
            ],
            "text/plain": [
              "         updateDateTime  ...                    email\n",
              "0  2021-05-21T08:30:00Z  ...  gabriel.nunes@email.com\n",
              "\n",
              "[1 rows x 47 columns]"
            ]
          },
          "metadata": {}
        }
      ]
    },
    {
      "cell_type": "code",
      "source": [
        "# O Dataframe tem 1 linha e 47 colunas\n",
        "df_customers.shape"
      ],
      "metadata": {
        "colab": {
          "base_uri": "https://localhost:8080/"
        },
        "id": "ed84c0NG9MFW",
        "outputId": "46493f31-75ae-40fe-fc7d-f5d32056a3db"
      },
      "execution_count": null,
      "outputs": [
        {
          "output_type": "execute_result",
          "data": {
            "text/plain": [
              "(1, 47)"
            ]
          },
          "metadata": {},
          "execution_count": 9
        }
      ]
    },
    {
      "cell_type": "code",
      "source": [
        ""
      ],
      "metadata": {
        "id": "3DNhZ7jvHZlN"
      },
      "execution_count": null,
      "outputs": []
    }
  ]
}